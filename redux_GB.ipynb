{
 "cells": [
  {
   "cell_type": "markdown",
   "metadata": {},
   "source": [
    "# Dogs v Cats Redux\n",
    "\n",
    "Authored by GB Nov 6, 2016"
   ]
  },
  {
   "cell_type": "markdown",
   "metadata": {},
   "source": [
    "## What we're trying to accomplish\n",
    "\n",
    "* Populate the correct directories - DONE\n",
    "* Choose some validation images - DONE (Using glob, random.permutation, shutil.copyfile, os.rename)\n",
    "* Write the python code to setup & train Vgg on a sample set\n",
    "* Redo training on the full set\n",
    "* Iterate the training\n",
    "* Explore the variables\n",
    "* Run though the investigation"
   ]
  },
  {
   "cell_type": "code",
   "execution_count": 29,
   "metadata": {
    "collapsed": false
   },
   "outputs": [
    {
     "name": "stdout",
     "output_type": "stream",
     "text": [
      "/home/ubuntu/nbs\n"
     ]
    }
   ],
   "source": [
    "%cd ~/nbs\n",
    "\n",
    "# Tell Matlab to plot inline\n",
    "%matplotlib inline\n",
    "\n",
    "# Import libraries\n",
    "import utils; reload(utils)\n",
    "from utils import *\n",
    "import shutil \n",
    "import numpy as np\n",
    "from glob import glob\n",
    "from vgg16 import Vgg16\n",
    "\n",
    "# Define the path to the dataset\n",
    "# path = \"data/redux/\"\n",
    "path = \"data/redux/sample/\""
   ]
  },
  {
   "cell_type": "code",
   "execution_count": 6,
   "metadata": {
    "collapsed": false
   },
   "outputs": [
    {
     "name": "stdout",
     "output_type": "stream",
     "text": [
      "/home/ubuntu/data/dogscats-redux/train/dogs\n"
     ]
    }
   ],
   "source": [
    "# Lets make sure we're in the right directory\n",
    "%cd data/redux/train/dogs\n",
    "#%cd ~/data/dogscats-redux/train/cats\n",
    "\n",
    "# Get an array of filenames\n",
    "g = glob ('*.jpg')\n",
    "\n",
    "# Shuffle 'em\n",
    "shuffledfiles = np.random.permutation(g)\n",
    "\n",
    "# Rename them\n",
    "for i in range(200): os.rename(shuffledfiles[i], \"../../valid/\"+shuffledfiles[i])"
   ]
  },
  {
   "cell_type": "markdown",
   "metadata": {},
   "source": [
    "### Lets try this as a function call"
   ]
  },
  {
   "cell_type": "code",
   "execution_count": 22,
   "metadata": {
    "collapsed": false
   },
   "outputs": [],
   "source": [
    "# Lets do the above as a function\n",
    "# Move sub-batches of files to a validation set\n",
    "def MoveSubBatches (NumFiles, SourceDir, DestDir):\n",
    "    g = glob (SourceDir + '*.jpg')\n",
    "    shuff = np.random.permutation (g)\n",
    "    for i in range (NumFiles): os.rename(shuff[i], DestDir + shuff[i])\n",
    "\n",
    "# Copy sub-batches of files to a sample set\n",
    "def CopySubBatches (NumFiles, SourceDir, DestDir):\n",
    "    g = glob (SourceDir + '*.jpg')\n",
    "    shuff = np.random.permutation (g)\n",
    "    for i in range (NumFiles): shutil.copyfile (shuff[i], DestDir + shuff[i])"
   ]
  },
  {
   "cell_type": "code",
   "execution_count": 17,
   "metadata": {
    "collapsed": false
   },
   "outputs": [
    {
     "name": "stdout",
     "output_type": "stream",
     "text": [
      "/home/ubuntu/data/dogscats-redux/train/cats\n",
      "/home/ubuntu/data/dogscats-redux/train/dogs\n"
     ]
    }
   ],
   "source": [
    "# Setup Validation Set\n",
    "# %cd data/dogscats-redux/train/cats        \n",
    "MoveSubBatches (1800, \"data/redux/train/cats\",\"data/redux/valid/cats/\")\n",
    "\n",
    "# %cd data/dogscats-redux/train/dogs\n",
    "MoveSubBatches (1800, \"data/redux/train/dogs\",\"data/redux/valid/dogs/\")"
   ]
  },
  {
   "cell_type": "code",
   "execution_count": 28,
   "metadata": {
    "collapsed": false
   },
   "outputs": [
    {
     "name": "stdout",
     "output_type": "stream",
     "text": [
      "/home/ubuntu/data/dogscats-redux/train/cats\n",
      "/home/ubuntu/data/dogscats-redux/train/dogs\n",
      "/home/ubuntu/data/dogscats-redux/valid/cats\n",
      "/home/ubuntu/data/dogscats-redux/valid/dogs\n"
     ]
    }
   ],
   "source": [
    "# Setup Sample Set\n",
    "# %cd data/dogscats-redux/train/cats        \n",
    "CopySubBatches (20, \"../../sample/train/cats/\")\n",
    "\n",
    "%cd data/dogscats-redux/train/dogs        \n",
    "CopySubBatches (20, \"../../sample/train/dogs/\")\n",
    "\n",
    "%cd data/dogscats-redux/valid/cats        \n",
    "CopySubBatches (20, \"../../sample/valid/cats/\")\n",
    "\n",
    "%cd data/dogscats-redux/valid/dogs        \n",
    "CopySubBatches (20, \"../../sample/valid/dogs/\")"
   ]
  },
  {
   "cell_type": "markdown",
   "metadata": {},
   "source": [
    "### Call Vgg and do some training!"
   ]
  },
  {
   "cell_type": "code",
   "execution_count": null,
   "metadata": {
    "collapsed": true
   },
   "outputs": [],
   "source": []
  }
 ],
 "metadata": {
  "anaconda-cloud": {},
  "kernelspec": {
   "display_name": "Python [conda root]",
   "language": "python",
   "name": "conda-root-py"
  },
  "language_info": {
   "codemirror_mode": {
    "name": "ipython",
    "version": 2
   },
   "file_extension": ".py",
   "mimetype": "text/x-python",
   "name": "python",
   "nbconvert_exporter": "python",
   "pygments_lexer": "ipython2",
   "version": "2.7.12"
  }
 },
 "nbformat": 4,
 "nbformat_minor": 1
}
