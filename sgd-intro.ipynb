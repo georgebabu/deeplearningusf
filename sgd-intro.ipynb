{
 "cells": [
  {
   "cell_type": "markdown",
   "metadata": {
    "toc": "true"
   },
   "source": [
    "# Table of Contents\n",
    " <p>"
   ]
  },
  {
   "cell_type": "code",
   "execution_count": 1,
   "metadata": {
    "collapsed": true
   },
   "outputs": [],
   "source": [
    "%matplotlib inline\n",
    "import math,sys,os,numpy as np\n",
    "from numpy.random import random\n",
    "from matplotlib import pyplot as plt, rcParams, animation, rc\n",
    "from __future__ import print_function, division\n",
    "from ipywidgets import interact, interactive, fixed\n",
    "from ipywidgets.widgets import *\n",
    "rc('animation', html='html5')\n",
    "rcParams['figure.figsize'] = 3, 3\n",
    "%precision 4\n",
    "np.set_printoptions(precision=4, linewidth=100)"
   ]
  },
  {
   "cell_type": "code",
   "execution_count": 2,
   "metadata": {
    "collapsed": true
   },
   "outputs": [],
   "source": [
    "def lin(a,b,x): return a*x+b"
   ]
  },
  {
   "cell_type": "code",
   "execution_count": 3,
   "metadata": {
    "collapsed": true
   },
   "outputs": [],
   "source": [
    "a=3.\n",
    "b=8."
   ]
  },
  {
   "cell_type": "code",
   "execution_count": 4,
   "metadata": {
    "collapsed": true
   },
   "outputs": [],
   "source": [
    "n=30\n",
    "x = random(n)\n",
    "y = lin(a,b,x)"
   ]
  },
  {
   "cell_type": "code",
   "execution_count": 5,
   "metadata": {
    "collapsed": false
   },
   "outputs": [
    {
     "data": {
      "text/plain": [
       "array([ 0.6222,  0.9168,  0.1634,  0.1369,  0.6711,  0.8718,  0.048 ,  0.7758,  0.4421,  0.8725,\n",
       "        0.9504,  0.9644,  0.3082,  0.6231,  0.6969,  0.915 ,  0.0037,  0.6495,  0.7849,  0.3259,\n",
       "        0.0089,  0.9453,  0.7531,  0.1687,  0.4786,  0.3888,  0.4863,  0.8595,  0.4862,  0.8462])"
      ]
     },
     "execution_count": 5,
     "metadata": {},
     "output_type": "execute_result"
    }
   ],
   "source": [
    "x"
   ]
  },
  {
   "cell_type": "code",
   "execution_count": 6,
   "metadata": {
    "collapsed": false
   },
   "outputs": [
    {
     "data": {
      "text/plain": [
       "array([  9.8666,  10.7504,   8.4902,   8.4107,  10.0134,  10.6155,   8.1439,  10.3273,   9.3263,\n",
       "        10.6176,  10.8511,  10.8931,   8.9246,   9.8692,  10.0908,  10.7451,   8.0111,   9.9485,\n",
       "        10.3548,   8.9776,   8.0267,  10.8358,  10.2593,   8.5061,   9.4358,   9.1663,   9.4589,\n",
       "        10.5785,   9.4586,  10.5387])"
      ]
     },
     "execution_count": 6,
     "metadata": {},
     "output_type": "execute_result"
    }
   ],
   "source": [
    "y"
   ]
  },
  {
   "cell_type": "code",
   "execution_count": 7,
   "metadata": {
    "collapsed": false
   },
   "outputs": [
    {
     "data": {
      "text/plain": [
       "<matplotlib.collections.PathCollection at 0x7f42b0771610>"
      ]
     },
     "execution_count": 7,
     "metadata": {},
     "output_type": "execute_result"
    },
    {
     "data": {
      "image/png": "[encoded data removed]",
      "text/plain": [
       "<matplotlib.figure.Figure at 0x7f42d4077650>"
      ]
     },
     "metadata": {},
     "output_type": "display_data"
    }
   ],
   "source": [
    "plt.scatter(x,y)"
   ]
  },
  {
   "cell_type": "code",
   "execution_count": 8,
   "metadata": {
    "collapsed": true
   },
   "outputs": [],
   "source": [
    "def sse(y,y_pred): return ((y-y_pred)**2).sum()\n",
    "def loss(y,a,b,x): return sse(y, lin(a,b,x))\n",
    "def avg_loss(y,a,b,x): return np.sqrt(loss(y,a,b,x)/n)"
   ]
  },
  {
   "cell_type": "code",
   "execution_count": 9,
   "metadata": {
    "collapsed": false
   },
   "outputs": [
    {
     "data": {
      "text/plain": [
       "9.3687"
      ]
     },
     "execution_count": 9,
     "metadata": {},
     "output_type": "execute_result"
    }
   ],
   "source": [
    "a_guess=-1.\n",
    "b_guess=1.\n",
    "avg_loss(y, a_guess, b_guess, x)"
   ]
  },
  {
   "cell_type": "code",
   "execution_count": 10,
   "metadata": {
    "collapsed": true
   },
   "outputs": [],
   "source": [
    "lr=0.01\n",
    "# d[(y-(a*x+b))**2,b] = 2 (b + a x - y)      = 2 (y_pred - y)\n",
    "# d[(y-(a*x+b))**2,a] = 2 x (b + a x - y)    = x * dy/db"
   ]
  },
  {
   "cell_type": "code",
   "execution_count": 11,
   "metadata": {
    "collapsed": false
   },
   "outputs": [],
   "source": [
    "def upd():\n",
    "    global a_guess, b_guess\n",
    "    y_pred = lin(a_guess, b_guess, x)\n",
    "    dydb = 2 * (y_pred - y)\n",
    "    dyda = x*dydb\n",
    "    a_guess -= lr*dyda.mean()\n",
    "    b_guess -= lr*dydb.mean()"
   ]
  },
  {
   "cell_type": "code",
   "execution_count": 12,
   "metadata": {
    "collapsed": false
   },
   "outputs": [
    {
     "data": {
      "text/html": [
       "<video width=\"500.0\" height=\"400.0\" controls autoplay loop>\n",
       "  <source type=\"video/mp4\" src=\"data:video/mp4;base64,AAAAHGZ0eXBNNFYgAAACAGlzb21pc28yYXZjMQAAAAhmcmVlAABYJ21kYXQAAAKuBgX//6rcRem9\n",
       "5tlIt5Ys2CDZI+7veDI2NCAtIGNvcmUgMTQ4IHIyNjQzIDVjNjU3MDQgLSBILjI2NC9NUEVHLTQg\n",
       "QVZDIGNvZGVjIC0gQ29weWxlZnQgMjAwMy0yMDE1IC0gaHR0cDovL3d3dy52aWRlb2xhbi5vcmcv\n",
       "eDI2NC5odG1sIC0gb3B0aW9uczogY2FiYWM9MSByZWY9MyBkZWJsb2NrPTE6MDowIGFuYWx5c2U9\n",
       "MHgzOjB4MTEzIG1lPWhleCBzdWJtZT03IHBzeT0xIHBzeV9yZD0xLjAwOjAuMDAgbWl4ZWRfcmVm\n",
       "PTEgbWVfcmFuZ2U9MTYgY2hyb21hX21lPTEgdHJlbGxpcz0xIDh4OGRjdD0xIGNxbT0wIGRlYWR6\n",
       "b25lPTIxLDExIGZhc3RfcHNraXA9MSBjaHJvbWFfcXBfb2Zmc2V0PS0yIHRocmVhZHM9NiBsb29r\n",
       "YWhlYWRfdGhyZWFkcz0xIHNsaWNlZF90aHJlYWRzPTAgbnI9MCBkZWNpbWF0ZT0xIGludGVybGFj\n",
       "ZWQ9MCBibHVyYXlfY29tcGF0PTAgY29uc3RyYWluZWRfaW50cmE9MCBiZnJhbWVzPTMgYl9weXJh\n",
       "bWlkPTIgYl9hZGFwdD0xIGJfYmlhcz0wIGRpcmVjdD0xIHdlaWdodGI9MSBvcGVuX2dvcD0wIHdl\n",
       "aWdodHA9MiBrZXlpbnQ9MjUwIGtleWludF9taW49MTAgc2NlbmVjdXQ9NDAgaW50cmFfcmVmcmVz\n",
       "aD0wIHJjX2xvb2thaGVhZD00MCByYz1jcmYgbWJ0cmVlPTEgY3JmPTIzLjAgcWNvbXA9MC42MCBx\n",
       "cG1pbj0wIHFwbWF4PTY5IHFwc3RlcD00IGlwX3JhdGlvPTEuNDAgYXE9MToxLjAwAIAAABM9ZYiE\n",
       "AD///vdonwKbWkN6gOSVxSXbT4H/q2dwfI/pAwAAAwAAAwAkAvzHv6EHQzQgAABRkkpUkmIiRmAh\n",
       "sP+ebxUt65SzxgV5BtAtfEw+/RTgAd48X43c8vDOKyJ16Rb4I57ikspKAdLwEk640y9hTBSnOt2G\n",
       "9BfCLxxHiE8R2vxbFfhlHsSYn/lgrj+csSHqPXWFIiuVSUakG23Sd4x/QuzaiGTNOsTcfHtp1c0F\n",
       "8d5p56QHO2NCvcPN3PdVxHR9zDztCTRMa1cvsz0Wia9wbxWyPEkl1uYb9aBB4/tU5poFCuvHShco\n",
       "3a7c7om17M/ZBYmhyGs/8BlPYlj+qRFYdaSTehJPmDjiNfYwYYgZ0OgKg0IAb4umbOLxknLQxTYF\n",
       "sSqVunUY+4X0GOrZsIi4nhgefZFUZzuxtJYaqN+zLpU7mwtjyb6nqWJAiTgPxV1llZ0kBl6id5mo\n",
       "A9/8l5+5eBgRhPqanzIWhiXlS4fjCKvL64NEn9DfqXGhLX6P/joX9XVqsAaRSecfWtb4QNGayaMw\n",
       "eHbpNVCE8fWdeD2JhNhKfx9ynuuvSBlvyz95nVr21+w22NEXoUpgf6ZaT+sHMAAac9U5VaPxKgNB\n",
       "1pUw39H7d/zaJuKmTqTYGDhs/JLKAvKXjCKdxrDkhJ5EFCI6YRwJ+0+Ud9q/c7G4COy5okLbMLi5\n",
       "DTH7M5ZQEXep2hzyH0LvZhtBR09nOiQlq5A0Yh96RfB9LASDgj5asWG6w1rZ9lZL8uaAXs3hM9lV\n",
       "CSwyWw6LAJontHgRmJphyuZeZY3jCmLAMyJb1Gfj9s1Zfn+sRiceJgirbxlHfWcD6/2uVasN1Olt\n",
       "JM/oftENQA9IHBAo8XGJjBzBr04H74m4ygMIbVxJgag5fiBeC7X2udY2SGGTYxctBbAepTrmvkAH\n",
       "HM1mHJ+RbpW7/918LtaoFgcaDfwDw4CLVMdBD5gOy65KqdR9ubLrsF2x9mnZXbkI2xrZwnNZbkAd\n",
       "h3DwCGwrmrGqkiNfsiWWMxCuYhzkT2+n3zNL76SZzUwq1c+jKyjdSMNpg5ywMiC748qEBa8R0TdQ\n",
       "qMhnY7ZXwg5GrqYSLGf/p6od6JHytok/fgd7jHrIvyv7O3VOGjzvZBADskCpB0G/2KFiNo5ovDxh\n",
       "5iUjI7AOTS37wxd9fb/EnB8y4WNhp9+AGcUzkwmEe6/lTjWP0QzutT2JZwuHlkR7zAIHADsv/jZl\n",
       "a5Vi1pEpfFN3/73u6gxhNgAbl99qEKWX3T6iW6CYMREDlrUj0CvCwwSlK+SGdCyiybkk4vf5nDrG\n",
       "uwe/GMRs+qhMeWq8i+3c171be/nNlt1pJO9FFzqTkUbaUTw6wmlVOG4M0RpG8NbARMIKThFdu5CP\n",
       "qJ1Un5G2XzENhOGfT6a55O3k+gAEV/ocSc1vVZFU+dsOnkCHFJ2I1P9ldYtDaQPHH1JNEpMAng75\n",
       "zonEr/YwTaqo2FADYXdp5nV/0xcO6GFxjbReNIG5uSol4kgVCBCbZHDSTGqRzG9NMn+m1uDgOF5Z\n",
       "s9Jm7egAOzgYRH+ArifbaSbhEPSpeXqv3BSCRAwe3biOCdHUle2JWbrdLgqTwZXfDCfYQiGJe1Ha\n",
       "kUlNtC1esPUKixSP5RJzAYy/7TWulDP2MQiJw4JB35F+TvY+biQ8cfW8dnJSXeN0XAL5L8gtJW34\n",
       "PfdYS2jVidyx2gh3FrSl2gjm6f1JOO+1igo5M7OLh1WQL5kRJ88yta5bqZyyR73SYv1ys9uODASz\n",
       "Z8DSf2jfW3E+kTS2qV4nCPKm+uVBfNrabp5EhNDz+CoJHGokIMbO9g42j4An1ycbgaSIVkcc4kpz\n",
       "d1CEjIqyiulRFP3sel4LNzG56oPIHttMWNKNYBEwNOdC15RnTfwe+9hxHseZue2TPAdyYoq1dsGP\n",
       "Vb9pa2MyehcoRTKQ5kVKplEK1IJri06MHx3Df9uFNSx/NX4Zsfoc9ABP1nm963qleoRyYyvY9LWv\n",
       "AuDKlzZikyqtxjuKeAyYfpY/eHv1u1TfVOmj9P0VjXHsY3pJsbhUwXR5WxzPhSmOj7ZGIAiiRGYs\n",
       "O47XgOAxf1QhP1UXtSc69SUzqlL/qel1YFF5MZM8vID14yIB8/+tzs9M3UUyv5dHTxQcBhXwM1L+\n",
       "IolMskGd9P53a612DOo+TfpcSUvZ/DbLY4cK1B+jCn0vxAOUlfBuniSzjzEx5f1b9F5MnNY9RCUY\n",
       "Nlf1iuFyD4BnHem7JLiUev+89z3/2YCVrL+UT19u+aDc/QmCrRffKK5oKYQfGR8XuPQWQ0wJgdq4\n",
       "NCMRpu/lm8N3lNEWq/wVmtXvtQraPpVAaS6Kq1aA/ISln83CNxuIwf47bioWyNmtnEp1TJuReauw\n",
       "WFTABZZoF/QiL+g8XJTj3JCGfTESh9Tcnv5g/VDOAHb2N4/aHsLGhlW2hXuCls58WzJetHeSjIdA\n",
       "65qMnpXveC1/0SC7TgI1ISEZH7p1tuZPMf0G4zTzsO0+KyjGx8e5WJ/Hk3pjmSw8VFRh6BlkrHN1\n",
       "QwkZgyoQExyFr9NixPsIMK4xQSMCZQ8ntitQLrnuiZUgaVjcngrsw4c43hHFk5ZZGf4RPft+f7cd\n",
       "XkBMUnxX8f3/j58S101zcw4e7lRctveADJOG6dJZd9GZyWnmmTIjDst5yNwLiAtPZUT+MLwXL4BM\n",
       "TJw/NtwdvpQSGFeX1F+m0yCgr+7E8d7X79f/dU3UU3NNlm9acuU8TMZ3htwQD+QipanRVRHy+XAG\n",
       "29R1cLfUYrVnrqbz7dp2E9nX/Vcwkb9Q8kUaERAj6jsEaF6Lhe6Utku4N/w9Mruq0TOeugcV9xyl\n",
       "ahT1FaRTAELls9LmRYimBriO9ALjpvGGAoMXvtif8BRq9xsus1NR4oO82LzNSWs5qRduxJT16WtC\n",
       "xdzHf1rCikzYbhOV1ckIWOdIQQ7H2VskOKkeP0dzEJcRq3Wsckk5lNWema63KVQY66myS9Hy9ACt\n",
       "OWn2CwCY/Z1ZZI6foiPqQxB6zrsPJu2q5fP6JCfVbRy9w6Z4MVN9SrvtQnbe1vrF/ZnO/QVgxoif\n",
       "ucieGCJLfChJly5op+GePrQjnA3XzawP7tGLBLDz/W1hxOwG124+iEOMy5gN2QgRpfRg5GLdDVwE\n",
       "cpI8YnD2T1zYGe/b6HN2WQq7QIOpL8tNwRCI7/aArprylKiJc911ysbvKH9NiSEfsbV2sQBHpMpi\n",
       "66UJFuKqsoO7VQb9xDPcUH9VdnFAvfcbipaYy4dmxgqRntLrJhUCDHwfBmg+MOFv8Zhm7U2c3swC\n",
       "pJWOevHkgzlemCQDz24Y9mTYGu9DfSoXCPnqDmIXXKa0Zw/4oTACON14OZTb+Vd69WLeGALV52av\n",
       "wnXXd0/+q5/F+ONOhzhfa6SsvYUkylWo0wBpbTZ67tLJYZToXKu0NefsUi4q6uIHOlGFzJVGZ7p7\n",
       "BB19GAABwxcrNSGvIisfwP7CB0SgM9zOOTJwNzTgtqSE3rL+J/xGqQG43RNBcH5afs1Iu1qvqfs1\n",
       "gDW0bx8lhEhbmKd3ePLM/FKn4CvzpdwlSUYLl4wwKkypG8OCULNx2UIe4CCOXlosAE2K9duwTXac\n",
       "T99aNDJt0g90zThOXJy4LT86iBh37pG3boj7inOZcT0+lXuK6stOJFKUXUqnlQuZDwDuFH5qkeuG\n",
       "iNcovGCSmGXyvdfTjnX2XnncxyDBsCsFc5lZS91IMHgoFYdLKYg9Z6D7Udh+hE0qglufxrAMmrx/\n",
       "6AILbAp8CiLqey+zZZAAlGW6k3y5Qc6kKXXfmZFb/OmUhRNk6yQFfiBDphbNEtQBOFhD2hWe7yUW\n",
       "ZS0usQp9tTBxIrnI8PU3EIVXHOiARC1lMr95E1A7KGcr7PUuonJOXL3YzkWW61+B02CW6zDTd4A5\n",
       "/4KC00dC0LmyLcmLHykv73Fa07A6jmqlFFHWL6XWOggeSphYuzNeSx3rXWiocNAJ89sZnNhgM+Ok\n",
       "cQ3KczZqvCLUCeJH3ukz6FM1dSk64Z8HWMJtN+oGnxiZRb2Z9qZUT6ntcOHVgeimJ8s0IsWsG110\n",
       "jk7oxNR4jOFyMiQ1WwdXPnG8gngkjnyChYjsLpTcR/OVPjf/QABeQrh6iDtdLbnNhtx/IVDSSpRC\n",
       "q0/xDQ0f2t3QjS1v2TKBYNYo1aXR6T1PLV9G2iSn3o/lcWHTBltzkbROSlxQl2ZQ+TE8LLLkncgK\n",
       "yu/anO0rVK15WZeU1pPGzVpRHcw/NrOKSVXkken84r6L9jq21MgkTDjMXTs/xcvTUt8mmj2ryaAE\n",
       "GJwCXr1AasrYoG4sMn/PKx/hWsedK3AL0mp2QWAviY6VgtTL1USSBuUn7NNZpag96/c667sUlR2u\n",
       "A4a25YAbmj7gnuYVt6Y5vFTVRM1I/vh1UX5htnA3Xyk6ZemO9UnitBCCsD7bwl42PHBkpNPvvN91\n",
       "wI4ISgf1m0gMvv/wFg/6GXLOM2DgmT+ufsDzTtqUdwXTv952rtrF/+3nuUFKeemdlbXR3ziDvst3\n",
       "g3PG7rKw8zGbZKJ3Nli8RXO6Nz83h1mzqPdL2+gr1kdrSboyuckDwzbrPL5xBxq/HCanB1cgMYK9\n",
       "ZHa0m6MpMKM0ziW9YOZOtZqYJlTzt7FpeED32ZBoylKuYd+mjRisaXPiYnKEB54pI/4mYKtzv8G3\n",
       "JZ5TMRfD4DshcytTA9E0ruQ7nFF7szOPDFGnukqhbaS9jinEftHdfr8kdxj9x8+nwdwhi/zUD1y/\n",
       "//pRTQuVFh+3NHA+yZAKOdxEVh+qnBgn8HgUb+6vOYNh4v6JD1gJ+boah+yCbvfj79BZR5PcJDn5\n",
       "lEahqMU0hTAkLBtHPxpgZc5wIIq0MjWdSA7Pw+s7EKdwZgya2gSL//4yzGx0qPHDIiq1grVAnzwn\n",
       "4DfoYo8q0QEh3uy/DiwdtDaAzO2CJ+QGdLyD6AOlA4eSQEX7VB+AfhRJr1eKfDK7E9OuHNU6jGDC\n",
       "dRKS7CO/TbjGgAUwPd2BGg+OWIGvClD7B2TtV16AtSw/XAKRc0EWtg527RzehwQo/JvtJ/LW09vW\n",
       "xlfanaqu8G3PItH6/MCIeh7xwND/R3vh1SYpWb525RYE/8Gb2k9jqZWUd/xzF09K1MUZCpCHqW2z\n",
       "3MtohKM8GeDeIXBwb+9YcECaizteFkDIS0me9ryBri+x588yUvqWebND/oE0hR3kAPwpzY3w/YWj\n",
       "iT95IgTyC8U/cGFDVdLP5hNx0IE1p+lq6T/dBxjmK1aIbMQqrS8z3a7nEpraeXX7xLycL3go6mlA\n",
       "R/pBxDfk9RXRH/w9rH+oHGy6Im3vyaPLXhbq8SW6DXxAKQRL7qklkycLOhXte/wj/ssw8db3AUDw\n",
       "og37Rnvkw5mVobYgsH6K3ANmzl1zbxIpZgi4OWpbLEstSeer69hTqgyAFTmRDNoaxEivlL2XFeMv\n",
       "iVmVPm0yaLgJqteqeXoBmKFhX4qeS4QGsrHZfCP/jteGqLpgrdMvHvs8Eivn5oX/rrmEwYNAJ5R2\n",
       "H2hpbsYre7E0vh341aPuCGl/8jRPsEQyIzrfPSomVk2nfCYll8POdLNfqjy3pakhIRp+utSdov1Y\n",
       "xvgggjYnnyjwqTY/RBpITvnF3GkKSM55mVNIfQntNQAKqw9/h1zQLrj4NB84k88S0fqEWQNmdbT2\n",
       "KihGMq9UK9/bbGGmAoWHGyKN7eyWeEV2M4a16dDVijcU56r+eFcxE/ezNs6+FA/juIHq4Rroa/PV\n",
       "iIuCChdHKq6HeyYcBXm7q00i06NZeK+6c1bvRkJ2Sf1n9J7I7PpRRcvo8oOdYUU/9oj0eYNPg98M\n",
       "RyRe+GPhrUf82JIrJTcaZIcpGj7FvhK0ai4E22j1dd7qxJQESZcGsoS41JonuYccOC71SB0pMd7b\n",
       "f0uTpDXjecUDV7n6V4syU3MGAmQjDs3XILatdctOD3Fl9TSI1nzeMvEJ8sPHVfqihbWlw/D0yBMt\n",
       "LlOsDvqOd8LHJ5Xjl3VZx1nd+/4i67xs+MQaE41Zo48lU+s3IR9gl7ilvrGlWRs0uTMeOtcNS38t\n",
       "y3yve9M6i0rfYbb8s1vlM1eh0SdyfM7qeIYzkBwUHi4Hj3Hqmwss+ELlctgCq/lQlkyF0i7TGLVE\n",
       "U0KBIi4v80xSFs5Qtl/wfMfwVbZed/ai1TNGnltQFXS/zwKS0bZM1giPU2KLGcAZRG3436LCCHIA\n",
       "r1AtRiCKlytGCQ1FUAepjPiI2qQ00yQOVPb9BZ7NknbnB3sKz3xjwZXmdBfta6E2w4M8iHw838a8\n",
       "JTOA87bpfLxl8OokkUPswVu7FdSpRPJE+Jhwq+s7VnFO+Pze+gR5CdTrMvd7/6xNnatWi+ELC/2j\n",
       "t9lRKX0qzy3nZ5cKIJC6KoxbP++gIHiVZnbbhrzfoUJ2fNmkG39dcoXD32F7A9rqQl4u0XF7R33R\n",
       "O0B9Kt2SqajuvyigW9nptBWzdW4Kui7S18bvcbom1/Uxikg9g31FlIpcc0klx7yo2fQ3od2OsKCj\n",
       "Z0jPz5FhiGEreFb6w7Ph/wYOweSYTtCjofTAfbtWbt03IKI+xhKne93TmZyM1x5MkyaFSlmOjdr9\n",
       "AACV3vwBYCVK5RKFB66nZWXgAgcAAAL4QZohbEP//qmWAHdXy8BBKpO2ChXvfsp9kOtX11l/b/VK\n",
       "/UUYtxk06AA04KX4w29MgHVvY+v4MYH/OFo7ubk82SuXQ3KEkD0HnuO+X3Arb27202hEzfIMlpPI\n",
       "ieaGdNV3WVQSSo72RyuAP3WzEluaBmkf1TS2wWtlGh2u24azfr9Xg3il7r/sPiU3ESuBysR/gQfs\n",
       "zMHA2/ZTzhiV8w3l1na/aGJytG/13P8pQMB7KFo9TUamZj1wfhW7wkJH/7z2DzOdPCsn/2PZpkb5\n",
       "3+1/PcWSWKoahw3ZjmWxzIvKCaKyeL3zXd2CG56n1xbmf2g3gmFXrbS2WQnLaqIDvNP3WRFrIoa9\n",
       "u1LLFiVWA0Bwxdev6JDQXkMBSAU7gZ2yE6amnhUfCbchonsLNJODjlVzDg0+UUxjnjoDGIo8wzXE\n",
       "cJp+1kuQkSrtOYrQpi3OAb1S5IXdwFzjMX6jimxIq7Aeib+U6YP0L7JnmBQJUEXKi8FnSrJYaytC\n",
       "bl2fZQngxl5x7q/Z9IwUGviS+bPxjIo7M1l6tOcKFxCK+4WIWYsnFnck2wobzCGAt96XucPx5aCb\n",
       "Ii4GkW2YfoGHZuIoFxBNkLu9ivcToKOmeK3vSrwneySglFXgagdNnvyWhM+aQsOIchGFlGGFKqpK\n",
       "BLdqCK5RgeopRyztFzuhuLT0/Wz1rAPblTqJQfAZNMqbISHKr6mG441kfg5FgHe5sid2L0/1FFJV\n",
       "ZFXGPxWbu+pZ03xvxGkpcbkVwYyXho0t7Av1gZFR7VjsT+85iooIMGdOuYDi0ZsBc2V+9rDjzwA9\n",
       "wIhGDTREadiwchZzhbrpviiLbTaYEaIuhQhsQvI3/rBokOmwBNdq6LT4mRM6BjgrtGA1tp3kDoA5\n",
       "F9VjqFGWrEUu+cUln4qhCh9YXr+WeBCsMW8fkWmmtXs5vY8bOlw4AAADAAT2VAOM2Tx6fMqiVDSZ\n",
       "+XLsmdbFvBu6KSbthaaJofDmP432jo0W2z+/ZG4E6VoQVglztvKQC7BEnAAAA51BmkI8IZMphD//\n",
       "/qmWAAoITZ7yjwt+ChxAAnb5ErvYjJPHkiifOqT8ckJJieS/Ryqk2rCYot1WvgQSs2AoN0AwShlW\n",
       "9uozvxZYek2YOnCHR29Pg1UBAvk9hRiPoQlFts5iCHAu1s9NSP9eWlrVg94FDSgLD9pzZnoNsA+l\n",
       "EoFPu3MK3CplzvXHee7PJHmsskM83e7347IT3jvpcl/XyyaK+BXrDjJtiVSRVHN7LWSugHmUOOht\n",
       "vHHGjOaDye/8371uoIzR9kh5JPWnkNTkLe1w/wEK/+DKFmZxiu+G9vRvhyL09ofIH+rTOc0bPxI7\n",
       "E0265Apk4pSLzsfBHsyFvHSpIVK3u8aWmlGWKaAC/rkMCL1pwI/bvlRGInx7CPeD+gQitMyZNpiU\n",
       "blnxuMR+KzQEAwA64zcUauQenqHF5WQqd0aWqrewirsPwAa1UwpRKJ10ywCO8qUuUU13QJbPdIJV\n",
       "MwA+srPwLfA2nqw5uY9HcjuJYFyCGXZlDYacYLEiX6AyulbF8b3iwu7aoBEYvzwElV81h/P/xafz\n",
       "gcTH0ROtn0RfRljnB00kreRVvt9MzS/Fgz/kBCq56OitpWT47VdpkuxNwoUHJpmu37I+M4VsHPk5\n",
       "hhp2D7KaTbWjWHGW2E3pouzzqK3cwWUkoYsijyjg2NG7y2I6T4+SzqSLCW+vXoCAFTnB99WxGCwk\n",
       "BldfEvzSxL9IqCEl4bJgYjPRQVe/cQdbh/aOkpSTAqs6Z04HeQ018XPXAhmy/6tZ02jmlJjLLzJy\n",
       "A01ncFNoUK/5qJWKfWLGkpu0fyBVWK7EAdr3ANTfBoSNFeaNCGFRo4EYJ/wp2JXfsTgyBIVKJZfr\n",
       "pW1TZHgXtJXdOXizKuhiSVfT7ArUeHvY3FOtJx9I18ofXsj6gSXu4AtUwKYutc1LJ0WUfzZUOzyA\n",
       "VYTpDJBarj0QM1X/a/NvIluJsCRm1j9F7Wf5AfzN3sDEcACyHIGpSAZDXN5yTye5j2QMRrOZT59m\n",
       "DINySR2xXDxuM2p7kxoZLx9jlrS3pVq/tXUXbaQOVgxyGyJyOX+hdNBtzEe6r9R/UBC4uFlP2beU\n",
       "3ejNWXeyRr/f1Rz3dPKcKGHHVJKjoWX1ZvuPVtQN//d8lZn2rWmjfvdYLRSla6Y+QxLOvJ7BVU1O\n",
       "lmv4kbh8exQNYSwKgRlHKNG+DTTIvcUNMP3bTAzeUGAKTr9zYXC2hTbO6gAWYQH7oAAky+NaWMIG\n",
       "vMWNAAADPUGaY0nhDyZTAh///qmWAADBbP/hHKxAA4tp2W6E6XD0r5/CReaNdUpaVoZswET3giTi\n",
       "WqwJ/ChHFEjoxS19hWEoVGXFuJ9Cx1k1+bJwFyiv7/+WYA2w3FUFMDX93HigXj0OtzmcNjaNVyRS\n",
       "Qm4w30CoDOYqr1B+87yEoPbfEmpIAghaaLorHj5KkO9HZMx/Y0IFqMSyb2TIruyBn7o8ix0aEDF6\n",
       "ZBKIQpVrqtPd4cb6uR/jVoLnuIaF0M19baDhulT3f8owG+x9pqaO+XkwByGk7Gp+FI2ftGU0UeSu\n",
       "9nZyyMIwWPmoMV/y3Gqt9eIy1xdhLeGDENoRL/0AuckhiZyhOi2Wk7ufKLS2HN8/yjWRgGsxYr2R\n",
       "+eYAj7g3AOupFMsDGAlH3Z2beKZp74xA67HjVHYsdtul8zOAU/DIf5u/HDpDxdzaNfl1fOBNrBaP\n",
       "ekOIja60Vv9Bf48aLXcJIb6bWcJ2pC+XgUTacBoJiK/BSMtodH5wpnerchoE2GfWXn0zGKkQofHO\n",
       "FytMqeMRVb0uIfCpjkhhVthfTPAUDp6gdDK2ZjoIQ0L7o2H9d0NdHy7GKXFB0cfN23BeZjC2VR0a\n",
       "RxfGsl0bxFVGcrT7DDYUiQBMIA7jsOX6DgRTf0z4O5t9AI+r3jFSCdfeMJjGJj+G29HEiMv+3XHq\n",
       "br+Mbo0OfQ8s1aYBbO3+xp1QFA3MnVBCO+QcLiLW1KmAX535tGLzLBOnL3KXxTXikEio45z1qYmQ\n",
       "YdbfjhP12J3vR/YzMnJmkiWYAnqMVJRY3GuyIg0f6EsC0aPhq4D0sVw7hKZE+DEQQZySASUvyptD\n",
       "VIPqgwbFG+Dcv8dKxjkJsHJABRfOtil/XxZfhSTNCxsRvwU6gCvf9gbysjsVsWi8kY0rNp4ASygm\n",
       "jltFUzOiPna/7UsOzmz9L7RBofMJKBSSUSSFuaHQosF2nC6I/3dRjcLs1k51pqVcDBPvpGDO8Coi\n",
       "2r2+k6/a5QUb8rcnNQ7UU/q0/c7qgl5IzJQivUlj1H8fa2Fn9i+qgd+aRJJzBD7PUChp+nbSpqbF\n",
       "FStUkvsgr4kPutHT39EA0T8VjGkiE/CkxyrYPvuXorPoATEhFTAAAAI9QZqESeEPJlMCH//+qZYA\n",
       "Accyz9voSTdlg51qLfg/IVgA7K85/jEc9sZa9t2zE+UvWoPPTBIIX/uWXEqCxou6NFtHJ8iv80eX\n",
       "04//SGPnt7n1U4Eu6QtPWvLxzhBdMwa+T/nrm6Q77chHYxEi9wOAgPbQ7i8UvkfS20XFvPjRZRN1\n",
       "sRiwr7WTvoyFew8OC9tSgLdWPeRvSrLag5r6tY0F3vhl5taX5raVjEw2xzSEzL5bqcNYfq7APd8H\n",
       "UEEaZAkv7F3j+NkE0ldQP/uHS8HbocK/mmtjdEh4EOuClYNFfnS0b3MLrZgOzE/stbqiarXb+YpA\n",
       "IqCNQaq+fjPk8R80FlAdZh2f6wtUXh9jWtPXMDDRXnqShopckI30uYu9BHzJV/5eWKFI8+/TUpmC\n",
       "MOPjsREUnu7A+vOg5H2mUZEmH3DJDu/+F9eKOTvTfUPNAPIpWl9FQMRSbWlNB0PJML/0FRRG6fAf\n",
       "LsaieIrH082V2zhSWJHXUOCHh8KBPNPgb/PJuGRA2zFIJ4DivmGSuP/rrrcLqT0I7rYPbUwkW1Wm\n",
       "RnCAelzXBzc8zaRYQ2fAJAXwVDkMNM0LuMLQI5m0iUbJ4Cb1HrXsLY1bbKVDZKqduJRNBHnejfyS\n",
       "EUQx90Foh+KPoJT6jsA4Vy/bMgDkpuDTAC09ygZ1MH8KGpLJffqreokq5bIrioctDwrx6ejTUKYp\n",
       "iSAEF6eHe4YA8FNoim/qHI9rjg79SxqYJDSRmeq1Pyh3iY/VyRbQ8PeAbJQRAAACIkGapUnhDyZT\n",
       "Ah///qmWAAPmZwflFxsDOFsm4RGYv/cM+zwBtKHlSrJkAUCnZXJb+kN0EwWJyl4Ki88mMTSdYeMp\n",
       "tWiTuarjwXM8bmHTtAanFhg2CyYsZHI4KmmsERKgU5a2KLcSszqsPSlWeRwt97OGdPbpxmvX5dwr\n",
       "BWEHAZpQALc6s0dNlFmJbqbxP2BUIrIwlMg6gpxLf/Fk/TimhsrVQpNvOY4TkZD32EokJCRcycwH\n",
       "5z+o4DwC0FOXcQvKSu09YHtRWcl8EgntEdcxv4Rhck4lum8+3gTv5YktIlcKbPahLYXNXQUgCndB\n",
       "7Tn1E2+WGV0sT/LL8rdNMBKnetncD8VNpp2BknyD5JFS/Z6RxiXPuH6v/xXMQpn0MzEuw38agh+Y\n",
       "JepOU98JBLyGX0IPkfD/EkZj/n6JJX9c8+dk1dz4/ABTp8qJqtgFFOCeA3zzXahAh+uepDeKlZNT\n",
       "51H1jpBBmUgSg+ayo6A6+tfAXVrbVYQCyAqQ5NM7BCi4GJnnw52Dh5V135yEcUXlxROGMutvz8tG\n",
       "p1LTog7bRrtAp90OYmtmtIAS3BSrqenTAVj6Crd7l2DUkOn07p6baST9NqHPNG9XgVF6p6Mluvxq\n",
       "OsTatiT4d+OEtKnjtiPYvgFZLv3uzzN2taoJbNzCMyEyEODX8X3fs9tSDOa5jT5N4WnQ7Sv39Zbg\n",
       "oVaKsgHBUvbWqATMffHASufblYSRkUsYsQAAAeBBmsZJ4Q8mUwIIf/6qVQACYH1ygToz8t+2DgZ1\n",
       "gmwq5jh5Ron81A5m8BcU86TmRxNheEZfxnIg7kess74fdpSb9/koz+yyZNySBBVrWzaNEjaI//+T\n",
       "2QHbxwXk1Jr9lfIxPp21I3Nej0DIfkiIQSnRcP7yy78TQxv/8N+JUKYkxYKv+rb4rjqpgCE7DE0O\n",
       "4o6tuZHTYkL+ghQm7qwWUmS4LFi0ei4Niuy8CpPZGi+wmvmG/4mlSh68G3XBFSp/c5JfAH9wRyOj\n",
       "KETL3FgmPR7L/s178QbMGqB09KyQPRy6QKKTcyOWlSFyAVJb77fTspzLjqxGBXu5b+62je6NfD1m\n",
       "hXP6wteK36MuAqVLnxhce+s3yQuZSPYN+idUtroJgZUptahjwANGPNaEeAWDnZn12Bb4YvOPETUl\n",
       "41OgkXUapXQKwRF9pJwrcVT09glkQpUB/TP/Y4FJ1zZpuihEngjuXmM/89PYUbdXMbaKVA9IkXJW\n",
       "hI0+1UPCvPc8xLnTomXtfm1CMf6afwAM/pmvSLa8bsYmUrAWLzU7Jtmn/sgIAws+Q5ZMvloFefIU\n",
       "nVkRZN0fVCAeA6kdf/k1Cw1koyIpe5Ed9k9LbmJ80zP+VHG25pjFLCpDTiVh8RjBu7zUAZUAAAIR\n",
       "QZrnSeEPJlMCCH/+qlUAAmB80gUyUqGTYOb+1pN+NEIw69evhjm6wX71J5A/DqPZqz3cXKu3auOZ\n",
       "FywXPj44OehYfRkXyAiUQEylO5bxzDa3FUkl8cVguqMTARbuyLZsQGK+SuOaizoI+o2r7Q1zqM86\n",
       "U8UQPgoiHsRGY73Or2vF9vMczh8VMM8elcrkqYz4bKCMXCy9R4rLwvp0bCGY8LcFYe5bdR/mDZMk\n",
       "okS8MWuN+jzh2YcLskVrwIPgzA/3uwdumuRL0BTyN0dYg75ecJ9gIYcrVZ/dVpmMxPRvV5oZd+hA\n",
       "U53mRagwODyKXAPuUJBDBsHMeYpi1ajzloWbNeViy/I4bIEvl9uWSXuM75ZMvK/lyNGGEdg66xg1\n",
       "Hl5crs30rBTHt/dXcC9KhIwnTsMveAlsW/B73BM3gU7qYq26ee+lUiVmxE9m7sfGDWM/jbA7jhQZ\n",
       "p8gEhzMrQ/l2JxaP11T0MUtwn/3EK7IEy7jSx7vZ0RrRYEgDkNrzrE2E2ucJ5+XaV4hJ0lVZbIjq\n",
       "pCDtCJ31BmkiEyRs0/vEhomDMAX7uOp2Ecgvsu4MhiNqpj5TYTlw+0SkyTM3kpembhNqDZ1Ys8ug\n",
       "jOyMX1Kyjz089qC0e904vrBzP/NM3CbJ1vr0+IIwRT46YrorXnRGzZbTD3TOLBoI1nG2UjOWSJeI\n",
       "nZGdUWRPZ+E95VwL6ASLiQAAAhhBmwhJ4Q8mUwIIf/6qVQAkCEIUAtEizzyxiEB+Sf5xjaKNY0+f\n",
       "A1QacApFpY/VC/1302ZbHG+lc3qftyvZ8BrwiJfW3ha2L6S7JR6KJmriYnrzRRBHOA+dAaz26Uzs\n",
       "juHusyr5p9ajfVygG6mVaZu5sR/80LpyOAqi252zbL0WQTT7jRrkT+5aCZdIKtYIYWxGPozS4Uc0\n",
       "oMndhtNK80cBR+1grwwga2iP46ZRNgYZKsW5NKg2YRsJqR3jOapSHnmPbrdYw80lWUPkJqVXFMH2\n",
       "dvVrJQ3B5ceAoc5EmOgZfwUtDJw0Kj+mAvEIVqNw/US6YGvW8u6q56I0p1+6ABKJEoL4X6d++LjX\n",
       "tkk0hPfElBv1wUhujdLTnMps4+OX3F7JD+uxCHEll2BHyH0dSKFfS97AXN+BbNf8yVtJEKy+KD9e\n",
       "yyhI9JmI0WCFh1EG8MY0s/O+WfiGAEK2PKRR2JnZH2OTHBpz4hcvr/xRI57Ost6bEgNxBKr7rJtk\n",
       "0Tg4xN3BFHUr7c6J2jihzBAFh+05bC/0m0IIhlazKMp//qBUJV3N6DEJQ3UYoS5LHyTxIGpkU/Ab\n",
       "OmMdMsNoeu1rELRvAn5wKQ2kcq6TdZ/O/W+RtInY++n0aZI8/Jl8ynXx5z1aSWRUhROg2nk+87q6\n",
       "WzfP8tqTPuIAFG0WGYWi05HFmz9YfbVoqfVzjUICl0z33e7/S4UZUWFdwAAABJtBmyxJ4Q8mUwII\n",
       "f/6qVQAFb8ryADnLzkqTstkicz+YWc5PL/Xe4Zx6cyc9lfayMAkUX2Mfu+KkpwaP3AfDPM4KIbFH\n",
       "kPZFXLjFURbYR3Jl8G/x/UwD+BWbuWOY3ZI7j4Eng0NFHmjZqS/NHn3vDW5u+sqj0hD3kA09szuV\n",
       "E0QOTjVmNtPGjTScVwXxPvkis2WsN0DYHUZ7CpdFD46onfOO5xXk5GBwoubzvPLja6Cz0bFCj7yo\n",
       "YV5P/yt9VtA+empEvAosJ6saPLbZn/daa0HzmQz19wA0YO+FX/pN4XIL6kKI3nXiGnYggs4OTtIR\n",
       "QSU1VbZI0vZztnknbTGRD2mSK4uj0FM9NQlOBz7+P51q3dLXXjXuxLY+YFiHiX5AS9B89Ow2DDZh\n",
       "bP4DrzxUprn3s2k+BtyOMtTyyUwlPbbAU2C7IBcYpbLtQPQkKJgQKBbg+iipLNtdv+YL/fcNzrH+\n",
       "CtAkT3Wvc1SkenPa5djB1yUpW2lFrAu96GZ1z+ASJa2kc0SChrBXgXcPr/s/QJGxyRlN24ZzBxs2\n",
       "Qc0dCMXbuhh/dU6xaNCv8r/4qt8Ht/IYyDVkI1vQcP/59g1GKioAHa2OM+s4qNVMrc70JP9L4ktp\n",
       "RDFWabBRQGbDib8grZ7lpXo4/bccYR3ovLdbWShStG+cW8Q+X72p9yLICsH/mMuvTEUKvhGMkfSA\n",
       "bZj5Eotf0S5+WOvkc/aGSyfuhGRv1hY3hpMiJ71IAtOaykBg1tXZ5FWeSXXCgKAw847g7lyLeNZ8\n",
       "uzGWDBTl4i36/zTLfJoa5q21ewN5yBzRS5qF/0a3cDOdTYZcHw21KEH91QqH45jfbqCOtkRbeu7F\n",
       "LayDgs8aJRga0yMhvEognV+oMJp9zdgAZstPb3rWkXDLC/ApvPYI6OQ664X45v39I6tbQWLIXkFu\n",
       "CKmuNw0RqNKKnsOQ0TNYTJHpEjO7FHtB6AGeqbtpLVo111DHoRcn+AyFQ3x6aHcl7uLDAGpQ/D2V\n",
       "dRHH87Q7Y5pOZSKgiZ+UgNuAh+HpG41rZv5Xhzj0xGksm3n8FUP0oFpxMelB6nRJIJwf2umjGj6+\n",
       "LT7B3F4grJUxoZBF1SiqZsiDGcBHReuPvQybL1R32MVrmlI41wyizkB6OPy9PGPLcZpJYcvX+FkD\n",
       "7cVRsmEpsoncJczrb9bBm4pI8cX6tHcSKsIz/X4+WK7X9Gx+zRr75xRnXOSVrCPDcKp3aPN6XBtx\n",
       "4ELQ2QpJ/vPOAxgzRIb/WG0+VXa+/1x/09xRXqv8xrrIEIxx3ynN71A9lmk5QtRqa55JrXZ/Xih2\n",
       "Tep0dudxwPa4qezHAGwvxaDNhCoWN3zVnB1lZoLOsTi85ZGqvWoQ9lf9t2d7Q25LuiB/s74lypEE\n",
       "FBUYFZ6/Q8oE47QT1cnb/d+GuVGFE1t8dDgbMR0lHCN0qfXAxJUQSle7j7eYBR19lUZWu/1UohAp\n",
       "9spyvMb00gEftOy0PBSUemGnR5sv6N/VeGuJkYCvtKi9dqjv0s9YbgTrHiFbbnUbFtv9TgD5QhHv\n",
       "PGirzLrqyfpiZ+1IoT7FteRY1GS6kNfYgSAhFTAAAAKnQZ9KRRE8O/8AHpI1AIl9C+G/RyACo671\n",
       "S3u2kFbFW6HCU5bLZDUzoItKJWZu/V73PD7ns7V6Mr2YV++UYlQB2Ujjni52mQHbgIUiaQBtYO3T\n",
       "BOWPh0ioBGVnuhbkLL3fxodj7hEKEjjskRFB8oEKKbPubs6cJq0/0J7G4RcAbVNTY9R2d9AYGhAw\n",
       "p0hVYZzyX5MFORs8j8SoklrJhZHUIIOfw4NOmf5KtEx2faN3Qi1Nmq7FIJwZD3GWnwAGgb9LFLkU\n",
       "Hq3jlZ9aNzdJgbmK8/ihqFcqK9Prq4yGC/MG7S/okJaWmkwUFysl0PlkB+u8yzSiBPtSLzbZ3Mq0\n",
       "VXHVvmYH5ZbSO8KUsaP5OseZ/ox8F2iwXbdBBtUlNf5uE/ojL7r+k4wLGAZvpKOVKQfwRKjBL4Lr\n",
       "85sDFTu6602xXVNDq8iGftF2rb+jIOyan1LHR57uupu8lCGXqZgYF1tshbiu48MtQfUsPyhbKEwj\n",
       "6SQhRiRNKVqAWAtpbqsu4Ica/Xs+K3EJcGYVJGPvFWnQl5pGJMNFGv+XbMkOKOBYx9C5sQaum+gt\n",
       "g1inYcNSCuY0RRttk2velPOj3rvS3oLAwcMkxfTOLd5trXF9tx4pnIWxGf5QG3BHCz0cCT3fFNYe\n",
       "uzU5yB8AQgXkTNbWO/bl/Ro05XgOln9vG4rnwlopVSHmiqjwbEOaF03b4X4sbpKknMX1X1qDqynZ\n",
       "vCCCV0pHfAHTGQFJx1a01wpMMHwUF4rwASWDpR4832nMDOZfYNf8MWbvBLXVQO5dO1rb3Oeev38z\n",
       "I19VmFUI3+zCPrbK3VeSD9Wygv9ATH7oilp/Y/M1BASiLGxndjuwKH8wFb6D6/MgvIVAW9abJoCp\n",
       "RdDOmZqCq43ZmvKJT8FCoe5SgH6AyIcziUxqwQAAASEBn2l0Q38AIFH/81LxrwAXzWg+VCZJnhmo\n",
       "QIARfb5HTgMrM3fETkgUSZgTj7dndC9qZxausEIKJw7lrzwJai2pYZ5c8v5PgREDLLoLOW9Zj/bD\n",
       "Oxti71pGx7m2SHzTw5pq56oH/UboiDD8K5PkNK/3+tFRChaZDwZQlS4wP/Jf0do3OC2r68FPrcv1\n",
       "lyRWYe6AUeFUzIjp1Gpt/7K60DW4A+r3xPxJ9OJ72SXSOvKiPSCyy2PE3BhMkWBdX1BMrqjEY/sO\n",
       "Ue61kuinGmHZ9hWFfaWP2d8rbCgpBoDpMJKEp5/FvD0tnxvKTEh17cpil/Zdp8nagoUTPpYmRMuM\n",
       "/pzSffbidYu9uDS3NSbgpdVnZiivrkifrzlcL71wAD9Hm+3sAAACTAGfa2pDfwAgUgAS6hLcAIg9\n",
       "5nK707unxjt+oTf4xPS3Nwkgn2lpnoQJcVJPqXTc7xQHGcDJ5J8LiejVDkI8zZVWu1zQelnIY97a\n",
       "7Pw2OMO5oM6SUTsp2HPplM0erEqntM1fJqmQsDJdn3bb0RyWmONg5U//RxYwusz+dlut1jqT2rJ5\n",
       "h5dx4xM/rZ6pfjpQBVyzp8KjvESqr6fZrBq00c3fvybJivavrUa1e2IXi7u6ywj0JuLn1Blo7N5e\n",
       "wrrReLyGlBO49vhcc6AgWNEh4xlttP4Zj27OYY0OTMXoHkc8AafrExUKkfpQI4ie4Nve6BmEJedL\n",
       "3Y+FUxgZnpjxDIXfHx/kB+yMD+psGb3XrBMqkH2FD7bEkzLFGKNnY1cqPY6Fdwdqx/PDYbeXfFnY\n",
       "jCeE63jauc6WZ/7ghb6JrMSLe9KTYj1c2SFUehy7c9/AfejiUH7q1Ey/71qyzLsSsKMwD+ZSJJmo\n",
       "QGJylloEVvNi2gO8R1VBJXmkNZ4SbfHAsguSXS4kP7YFhBsnToCVW02AW73LU7ZalSeDRCoiGZZm\n",
       "xfyrX+XGFHc2JqBN+AjVzb22d8tBNextsBarcviPI1ybMQhDIYbt+/95VIhTSEWsWemoeV173//g\n",
       "dAMvs4rfoTGiWXXGVWlis3TVwxTnb+dXNePyRwXHCp5K8Pq45gobLb1OvlksJ2unArzz2+DOBy21\n",
       "JfRwm6tWGOiEmHo4Bqn/mRTueDBU9JdWsHBbm16JmzUvN+CBp6+AC7UbmY/xfGlwxfrAAF04jqih\n",
       "gAAABC5Bm21JqEFomUwIIf/+qlUABZPE3gBGSNygvEM4DOU0ckzYaj1gxoDqGDSnZObMcrWC0Rfi\n",
       "WfdOy6zMbp6I1wmscQPdkSLKh8HUEYB24d1M1KrJoXG44cIPQRrrqVD6kQlAdZjGnr/l2ulUhOwI\n",
       "RnUvMqntsxX+Xe27rOIY3VLr9wRaC0llApQWyNpQWhrH9W5jyRnYL44FfPwCUcE7Jct27xKBSHFR\n",
       "zQVvKZt//2nfkJurA+rzxME2glXWn9bUyU80d4lo4NhcdFPrH68SDHiRRChG2Kz00zX6OYCP9h4j\n",
       "8y0PsHicOyf0wEwW2sJFP72K0vQFD7LjogybbJFpR6K+lN5ltoP1JBWI1nZZvhWYSMILISewuLi4\n",
       "f1ruBb40a9FfW85uuxlYF7t/s1EnHJ9GGNEWYnxz1tlTGSk8MEfteFmKNQBHs2ekZ420MEbHGHvX\n",
       "DgU5suVGMHXWlu5v1zYwWcXslF/83yUMDOHAXTxDpnbD0vTILhHwK601T3x7W+z8B5L//5SOxuTs\n",
       "1JD55JkSqi04WJOP0zGCGuAn5jvPm4IsqqC3GEyF601nsioxt6Ytc6KZwJ7vfvWfG3cIjVWa5boX\n",
       "gZzKBbhU7mCgE9NpvaimPfkCNExVclt1FyuP8dLSoGXr6xlbAYRIRpWd5Ltha/uczWgXN/5O5XMG\n",
       "8eGWJgJFqfCY33BxlHNrF57kRK7blJ6gYairHGdhGhLD/g3Pm1wtOx6CLRKqUepF2zR2hyKMaXbw\n",
       "End60YUElAjWrCqikKOslT3k1O0dlPMdG9Hm7Q/n1KhSVuWiY4DSV2MyNg1/a/1NcyC1LsZI66TS\n",
       "SwhjZdMzbYifgkCE4auEGxIKDr82Tb/3Cj/7H0MyBPpnWsvoFUipUa1Y6gy6LN1d7NKte43HnscH\n",
       "3ZNp2jfwFioN7fiPxvtsdbAWr6M1MAYUimrvJEzmH2pYM42m5ss4rC7AKm3YDgCzIkgB9J0/89FD\n",
       "MeoAg28hf+gcDTZ+BvxOC8PIKsxu13vVj0DbYP3U2N3cS61f0bkZJzqifK/WawHYhe3tARpxaf+E\n",
       "KpOfKS96oziQpPIDxFaL3o25iz33ecpsD84IeTWXFf996uugiXzZPcP1JbtkMu80PuDCMFEZLqIl\n",
       "uizcch7JHzabnX4jIo7O1DY8Ytx/llWvatSiCsX05OHRYIlF+NX+l6CdbbI935jy916Do2EKjvHp\n",
       "YfBQwXcXBpZJ1Beb7wBQFQ0Vx3W3a6uUjrOESG6iXqPFechzCrfLzbToJcp6cLrUrYVx54krNXfb\n",
       "urq8dQYi2pc7X6GECz4yboN8RafstTs2a9gMtIA12V4vN7sQU3hJItg30qogB8CP1vDtRxI5qWLn\n",
       "/MHEU2mTGhwRaZL0T+tXsOc4eTKqzYCQ5xhv7Di/8s7Mhlh1JbpGoqN1BgZKtsMupwAAA8pBm45J\n",
       "4QpSZTAgj//+tSqAAspP0gAcLeY8kSv3ojW6/apZBNOsNjJ7g+qQsKOtTKU0gGAFomP7X3CS0AiX\n",
       "5WN4Iv67XVHPi3iXSz/7vlFjy0UOCDWWqKngXVoQl3CBudrYTKkeyfa2MQTGhIwdRvpx+3dJ8InY\n",
       "3nYf15/iJahHwXQvQy2BQ+tL6fey4GyP6TeSGjjpTS9cXyGaxhowKGMEsusXXbGDemAoyLFQBFcn\n",
       "wlsr1iq/iWvsoMFjEsVnSxAGNhPrJIB96pmgOMm4405lm9BBpKguT7rGEjQEbwlhBSR8laSfKS3K\n",
       "9x6EPIqtT4jW1/nnQWgQXlehYoRSkjh8/DVmR6uWyQNib/wQ9uiKOFc0svPyAQ7bZwsgEtctHpiE\n",
       "ccmqZmfos0CZLcg+EoKhnJeqp9L9Tpa84qwGjQUjv13Wjf6D29slu4WVNGzFGECxlsu8RFkKAadE\n",
       "rw8bB1RSx3U9ryfbvW0m/kbXoP5PUV4pOLVRNILhQpuWy/KVCjX7U8x9DjNS2uR0ssne/xEHjvt+\n",
       "denmCLVNKKFNH8tH8SU6NyaaOOgAP6GPQlC+XbiNHhRV0fWvEsHx0+zl8S9D5+LnRvP+q8KKOMqe\n",
       "1gXKL5SAVIZejjg42vuAan/YHvtDc95wnCQQ3W4bgg9QGOQ0MEfbjKPCH0e5Sz568s4Ug/hgCFpo\n",
       "OxQcxmOkkK05h3tO3va/NyhlmyLIv7bxNsi0LOJNUzSqSbDdSegLg8Jtr8e35HcFwKyvC1rMA9Cy\n",
       "LRuVSLEQ7HfEo3NoiWi+32hwmtB1IXFxb3xYlyVNUX7Y6g6x6i01jpePnphViVLf4DRcFlycAyQe\n",
       "0hhecsmeaWnq2C7BRPMefeT4kOx3KQd03STdsOGMudpuH83zEirhMX18RGePRblSjOG1OrL93uC4\n",
       "U1f8Nwf0h9Kq3wW5eQ/GNlfPSHP9PjgNopO2Yg2VV4VK4Iv+hIWBP2JXr1711VilBaTZDs+vZIV6\n",
       "F6o0V+7z1kLPg/omVqInuYCQp+plTo2jzfTmVP2tiV067bAJVTxzjvTtrpoK+GObPHuyQ2DEcd7/\n",
       "7YwMflN6jlQyjve3/YXswRVxWtCcFh4vRsYhNAV+MPVZVXtodh42yRysqfuV1h9AxYkaVL9KSSjb\n",
       "NAuzvhvqGiVAydAWOf2NRXDpNzfkz+rdaljvQpm8io3QHPWlgAChvFmwpxutVIqTWiLa5BbAMFHK\n",
       "EAbLQAHULMLSaeLVqCLJfUA938Bfcxj/pjx/ArhJPfqrI7gbzh+7yDnWMYrjCw0MCgKRoGLBAAAE\n",
       "yEGbsknhDomUwIIf/qpVAAWUb6pADdEcoqnVg02s8TRIR82rqW01ybKu29bDNICAs/ArfMMS3lf7\n",
       "OoORPWhRnY4F85bj2ajeJB9VBScFmd76gXLPsF0BSIHeYgyZx6Y095fNY/oPA+X/si3AuW0oEWc/\n",
       "4TrSEJAg4AcCmGEmAMdD+3HykKecJ6yiXMB0wYNtb7LFYVQYm5M/M7hFoI0RYyv/HYSNXdmN0gbw\n",
       "3pChAy4txoDHC8DjRfv6JyHqqeSJMMXcyzzMB6pRgWZfIDwAWkWi5QTjdhiNDgHFgsUQ74ypiHXl\n",
       "UVcqsKTEeON5ILHglsv7yMzDecwCqxzdz5m/vzJtUHceWY2PJiyQhGyEZdo9S068ovZ5E6wYl//Q\n",
       "iThsSYll6Ny6l04R5uZJa6wNPAN5qdki1pYsEGcLalodC157RDWV7VyauM/DPqULgi1GgVEQ06e1\n",
       "W0Q5cbqOYFXDO+k8pR4oInGvwEsZOXGRk9cNYbU1Jmvd/dEnl4MYdpr3cWRihA3/j3QzG0OlkR0v\n",
       "gklH1XISxMtQB750QvvsV7/wibMyg0evvLyNrnL86Ppln0hP9gYZkDW/k61bLsLflE8UQ0r99oNl\n",
       "FK+J7G1JFb0OsggAg/1qYaXKPNKFUKzXhlS9qYBgKjnDCQvdp3hDY3k3GT9rOVNPITdcMIg/Aiu/\n",
       "yHGPo8VBau9ejKXHE7Jnx2Wtubod+QcodxFUAQdp3dlCbGSP9WAWg32vD+0JeqAQbcCLWSWj7jir\n",
       "bGv0HiFE4TB6fL8GbL4pS482drUK3dgIM/uVgNCX9MronhmBDK4TJ7g6BVjnkAePtCrfdgrYRhno\n",
       "ysJIe2/oEKJAIeTnYQQ4BlM1aNEXdTOGfWgtjqfilUXQaDd0qBLu+MS4eYJ40qNDmZI0Splf0lCr\n",
       "7LDnXLD213fQ5oAi0z4a0z647/R7wnrODcyhs52jwNcoS0hjXisvwe0/iHb7sBmtnyEV3Em3TSK8\n",
       "pABPYigpPasHpmWsW57f9jxgtDEoNcxJSoVhME5EGgzPNghbMmjbYEvNyZLtXB3Nn2MtqQseaHqr\n",
       "uiaHNlg0XQiO7A8liGHaiShlOA8hDWyK69B2CpgTcU/axxoalBdChbnT98JH48DyhWQwYpAQCuyg\n",
       "0vwoCk6XH3awVKEEgGi8bfh59VfGRCPobBtFAv0HSAx2cMs8sEieb0m4PCW5qQVouHmJ3wheHtJb\n",
       "IZhw/LjEOP1b//10Fk+7dQ2mbrS0FRNMeMUkFkwgVrs9A71+g+9tVFgBBnvOSVlvP7SpkOffhSru\n",
       "Fy+UYiRiY7kz1Nt/x8v/yQrfJ0eAfH7KiGBMzZs+B4Z2PfqoQI7204ZZ+7eBY6dvNcmJVb3S677P\n",
       "dJbp9KtwTClp4Wao4VLcbBeHkXFtKnoYt/U+RgT4Utv7NPGQAslJflaTbxUtP2ubszkEI2jVS71Z\n",
       "yYYgOO3AfKWBWwzPEDX7zk8H8GDbEi2BaXf9Zw6CCJU+ITkKMwT2P4BrR0q6sXLm7Ai0dxyaCFVJ\n",
       "W80uxtGdA0TNNhz0l/au63mey98/STkErmvRFlUlYoi6NRODK1cz301CJWYav7rW7e+e5OUvQSPF\n",
       "cnnsEeHvG/hO/GxnmSh4WkOOZzwwXAE8KwBP/wAAAj9Bn9BFETw7/wAekQ4TlbUWI3pQATa9OVlD\n",
       "LhS6eyIhAJU4M+h9HswZpM/UjiKIFyuxp4CBFCCUyqtR91om3/z+qyqrKeLXqcu3SJ4Wkjt9Mz+C\n",
       "UekyHpoOxbfnwYxqSBlSng3f0WoDJ0gN4dUkBjTUThkyJ/btHZ06Zn9E5AD7XluTJij0OBn6xpWD\n",
       "nB6XKF4h1lLeMCwht911GryNsGvwexHgFeArShL1Eh+kruViPfMU9nOsdt2jz8oI3ohQXPRbbKZS\n",
       "m1C7xH6D0AATVJ4ZQ2q7kY0vtuADPvHCTbxfwcEhL/B1s5GWMIb4Iu2ULBg7nUnEf4jd7ubHNNCu\n",
       "tID1edsMNR30Sl/gempqiKWq9Kln91Tq4J4jgyKKWzDyLxPaNQEQXtiyVo3GgJjqyMT9k6DjRS5U\n",
       "oYizndiXv5AgAOA/sXEMONrRcMTugjIpyD53td6s74t3a7/iuqKjaWEQZ+Ly2RHBUBv5yqiJ91Q7\n",
       "+gyASgFX9BLHh+ywNeyfolA/hjhyJhTARBgHwwAiCnfvSXdCGKIHzH7WsmDIgp+iTM4IHlCXpoJN\n",
       "4EX+yVxq7Py1rjourLdXd0JvERic0DWSSBoVwqApp6EPGUtzR257G1Vf+zLtfu/RdYtc+4V9XqSh\n",
       "i/EcAOHNiq7Yl0xfNRe/3Sexv/9HKm/D2hbAnIxQdllQsGjYE3Q6xNm+a3k6SqUmLL/n5oCLaH+M\n",
       "ogckCKwI5e8z84+RB0pOCgXrRtxXpRLI4rIACiw1rCSWdbGo6gAAAbEBn+90Q38ADqkAyTU+XqAB\n",
       "xB/nAm8lls673PIZtjeLXlSkJH+narVKtAWo8SfZw0q/HyKO5cQCQtisT8aH/lP7k5IBAE9Dkoi6\n",
       "NjMSvC+bKs4Jv2+P6RpfE9HdaxrNAKA0ic63h4PKHp651ey3xw4vvAeQVRFdY+PW7yNOlDSYbbQq\n",
       "lCrhGDwwz/9sDQJhg0mhgorlzkZ0HJZc8SMZl0JhdF5A9FFtM7/MHF/NhvlJ8vG3hfEkqLt6xu4q\n",
       "NXCk+zk4bk5AWeDdAn3gOwMKK8pM69lCB/fSyRK+eVvrJxCOYOkmpY0jKeru+pjt2guSl898aODz\n",
       "qCGYxPGLQ9GmPLzWwsChqcqFL/gDjpH4wSe79pzV9J+wp5RrHqUdvJEr8nYSaI6tpX9kVBPGWYKv\n",
       "akZ08Sp14K8gYzVMHPU9RrSPunDNh4ynmfh4dsrrmUthloPNcpBbDO7hBhaAHucrg6uXwXAvFVIl\n",
       "xHcXuH1iADnk3LhioDSl+Q7PzNqNpPrSnAS/35p+9VArV0P1UjXVCdH4+WONVrYlgW1B2kkvqEZl\n",
       "qYWAYInjLY5Nn6AAEdTBznLAAAABDgGf8WpDfwAPOeUgAvmryJiOxxqCHC1c3sQcB/56twB4f0R4\n",
       "2A/89c4kIeHAvigZ5ZxJluZ0Cc3DowMs5vSeh4hZGQ6cxmJ5FBvqYbSeUj5dKGvoB47/cq8Gnq0N\n",
       "YMinjq7hj+rYXJHIogUEJsNif9xTueEoPPbl0T/BtYwYB4fSIGqdb47hkj/sRnfb2elKZCbAo+uk\n",
       "e7WmEsIS1VbOh77YuPNUNCA29sX48Q2Xlv61AuSs5WZxFvdfg9dEfyRm79oBAvHHIl/yQTdEWnoR\n",
       "qsr2LrALrGpYPW5Ajkf46p3HmvntwtyVBwHETwU4SGOJvGUBDyN79IUVMu2t9R3vkyf7LTIOxHV8\n",
       "AAFdHxpEQQAAApZBm/NJqEFomUwIIf/+qlUAC7d52ARqr/h9/kNlQLyVK920FNi/9GhibDuqgS0B\n",
       "RON7nJ4nmAOPzCn0OeNSbW+s7hDmDCNqvLnm818CoMNUz2tuczcm0fi/76yubeo2+tv9yfGnOwJE\n",
       "oaI6fzMY4qsSZNM4jxzUeXLKlRwCIfVGJJz/jSwj/hMOijBjAawnjQPGks4mroDYRKnGS03cPkNM\n",
       "VIg7hnNXiUu4ScWMBxs5ZzUr3fxV02qE5FCkF11LSM4LOt2r6cz09+9PioB1TqseihVg0t0MCYrR\n",
       "jJmns4TLGyS22ah8kBwJpTdPAwjRYax+/8tyajXWWy0iB6HTrp8LYydMOoU5u1FM+VezA1kUttpT\n",
       "r1J/lBFcvqiDOy6HnOSK3OzA2CH3p9FssqLXEtJKcUUA80Z50sU7ISeeJTjKpHfMTPKh8vA8sxbB\n",
       "10Z6YAbmT35WTbJGoQRk3qEg6EHbnnhnzxuHMnyYfpM6D7cmCK3ML0QNfnO8fRRMG5gxOoY40Sb4\n",
       "8H0VLGFOjjf+Ow3axJl4iRalr7c1aTWRXav/L9tv1nm5hbp0dbouIY9/U5Npm5uQU8CtMP2aj/+1\n",
       "dMkwstJxP7BUEWU4aLw8sUOyM05eXV39y4GTtWQZIofF6+19YvCpzVV680MJ4sQmRLGT/QH6NU0J\n",
       "9g4OYonEAWcJMt8X/AGDMEJI6fI9lLpaTwfPsQBBgdxwFAh4VeAL+S38PcQm8zQn/6JM6UM8Rmye\n",
       "3vm4a8ubocF0UuTNBJf19vWt5Blxpez8RbJiX7B32Q/98QxQww0LMR4zg/yGOP57EuT7+0z2tzRO\n",
       "vp2wukgXpISULUiRJsbjt5THlSfshq1F9r6XTQDmzZtWQAQ/bm5ty5vxm4urCAAAAqxBmhRJ4QpS\n",
       "ZTAgj//+tSqABdyfpAB0kYc/fQ56057MB0wTJYivyY9829V9WYvvF+yur20vlyjEhukjHKfXbjIo\n",
       "Px/WuuiYuKkekMdiAq4ECd31uwKVKzGrbYxNrQQE3Kky7K/MQjpPlHFoYf1929QAREIRWkgTndBz\n",
       "p5iAq3g/p36HcCK88nT53xB3hvz614c/N3jxdqfXovuypSVsgnnNyxGlpr6nANRnQ73TBfIZmzWK\n",
       "iIE85lZ8vIQJ3IrwlDJcuymTIQlBtCNkkr9Jn2NtJ8KpL6cQxscDWxWht9NK/mK0tI2/DIb+6s2o\n",
       "y6qbSlGprLTSMTRGJDkFQqTZtOG5iAJM0Sw9xHa22+LAUITQH33MYz7ggD+4Cwh9gf/xVvTe5s8F\n",
       "glzNQl1LTLw4xYsM4BBpfPrG/MAIh4P9JE8D26IT8l3FGlAS1VLVg37qAkcio2xsXnKWWnLQCj3r\n",
       "2a62nMuLvuTLL1ajTDwyjHbUvWPVnQF5OK07LOQo/78ziz2f2QUUHIfMyKvifLaynOTSb+9x/G/p\n",
       "uZ9/j1PidA/06id3TI3PLEMvZNz0Pqr38wRDyeaeuhIe8yx5MGQXODuaV1hzCFA7MqFHA/Gg2aWV\n",
       "pQuOyuYqBUaY8kalksQrRhbjZZKlZaM/vqE1w3021/n6jZAcmQ2bWJKwVL4+mJPP6esV0wcPlF1T\n",
       "UQRqgAcHGyRg0qNbACefGoHkDr5L6oyeIzDckYdd9bt3Kknj7djAyeSiTCUDI6WbKp8+lNPYOAnV\n",
       "eh2WidxSLdIdocchS+O3QqEu+0Ss3UpekEOYO+vndibM6Ot/ic0ZdEBixCe9SLdy68Ya9yCAO7d4\n",
       "1p0kqscw32tmvceBzUSpHfg0xTeD8iMlqokcfU5t1C5qpVA+lMaPrALETakVSU0WMD0AAAPCQZo4\n",
       "SeEOiZTAgj/+tSqABdyfpABYduv5kXkYQtnytrp+tNvzuIoCjklxyIzFwWNRHNewDcMNoW15l976\n",
       "xGN59VIEwAjoDlI9vnaZLFrtAcaKs9AdHeEEpRJuwIEINbsMt78xcB2Xhuee4FZf29To/wInSGEA\n",
       "T8fvOFK2Ky1HWwZbm1GUZIe4g6iAoeAuqp4NuJHxCVDnwBY9JVYIvJVJwLCd79pqO1GNWtu/gUUl\n",
       "yVojG0Ieo0scs+RFf9YRCZwI51vk2mOdX4Zx2uQLoxP2r8+kRSI53ktYny5TRtyQg23WSrJRJRsS\n",
       "/UWDFnsp4hsno2MZpzLL/QZowUtQzAriMDBoFHBCE2+yDtDeoegTBXuh6GNgqaQQmsrGt5m/MoND\n",
       "QbRzeWESbKCeW57QNxm1h/eNaRuH4qcTZL+M9Ds2QE3U2mCQPq36iDFT7hcx65ZWRagGrnVkIngK\n",
       "WVJlfRacOkqebqxHEeGDECKvXpeXMD+/Gxb32Fpi5N1ZD9CdLzvO9DmXQGG9S75rOoJitL8xF4kx\n",
       "hoaNIrBKfTP4Zg6OqW1w28c9py8ODvfG51KDTPw5MkLqdDbryf7Tc7doQWwXL6Twf1zY4CzFC5cn\n",
       "4rqlOTEWsWYzp/smrg00gNBqVLvcim8SqIrmWCqpDp0UW5Wx0tBcqAMw14ZUq+cJ7wolRkLnyzEt\n",
       "LJjJHXntIKEjs9tigr4zfC+4+H2N8deB2AafAS/R1CWptB6YKWFih/n3nynsMKiYhW/e1rIFlAin\n",
       "4WHHSDhqizDsdZAEXBQZdX5XUGTfUlAsNB/fC8DljCAXIGHVGdnY9D6QHlfdEJqLJis1ecqaDl2n\n",
       "1TgBbgfESpkiUyOg4Ar8ZAftnflkUVB0QkxUhVHUhsnQpGefH5uPeJfctMEf2yanAF1s7ZVsjpGC\n",
       "bCgy+V1gitVxTP0c1PmJi9tpd9li9gPQaFj3QmWuS+0CWyHrCJ0UHSRSl5sIkzN3SdoYrFmRNISk\n",
       "AfAGfpoxkum8FwA4ux0z9v/pRWql9TQb6S3iGLTLsIl/qPWrk9gJJYxGrYjnMNoSuVpiKE/ahWmT\n",
       "lQ95kFuPrmCMbAQuYH3ukjiVeJm7C6xKcErEMinih0TgsoHNjRYehp5Z3SCDyHso3v68XzKfRXg5\n",
       "GMBoA1h9RQy9NCSAt7AbbaKOcG7offdP0danHsbXl/AmhVF1q5KYHGDnfo2JzOrUGpMcXSZes+Vk\n",
       "+rDpdP/3iwx1UxsYw4GoHY8szTtPePZ+yVkdxjh0yurbMICaCqvWQgyREpDb54EAAADTQZ5WRRE8\n",
       "O/8AHpEOE5W0Mkc0oGdSwAQbHRorrMHxgM3Ql8pLcrC7b88kewMjrxe5wM7ZiZhMmbbBKeXPsavF\n",
       "gGhlfN+qeE20nkvN+GbYXcBSuxthE/v8NigdQpQYp6y5HdIRq4aOLutv/ULIMlkQ6lNDJVEv/ggG\n",
       "uYICeirQq0j+31gCPL1NADsqrogRNkqIAACFq4EhmF4iZY/5bVzLsiJ3fnlEQmZsu15jMX9KQNhU\n",
       "K3GUYNrYx0sebTbdJ4t/mD1DsjrOrHp/iAKEOAAWnFp3uwAAAHwBnnV0Q38AIFIAF8EEAJauIdMw\n",
       "d/z03ExLYzvIy4PlNYOygDVbhqPPkt56OfgiVbi6WHsVQ79DN3+SVPGjOk8tZiBq+tFRyDjkV40T\n",
       "SeOH647koCn3gCuXcnxYoFpAeZ5fd854xxofaui/uje+eiSzsfyOMAZhJd6G6g8RAAAATQGed2pD\n",
       "fwAgUgAZBRVC233KklQNHgxiSbjrfNNwAYAOcOA3gPK3g0jchTdTixBQtUbNflzAuEFyw4NIv1po\n",
       "CprjMKC2oAk/N+IpjXuxAAACOkGafEmoQWiZTAgj//61KoAFuJmYAQelw06PsNcJpWWLKLfEWySw\n",
       "qis915LWtTnRITV7r4MYT2H12tOb3fU4eVXReHnUihSQoUskLiiwYkXF5CH/9+P+InnP/XUUjoFt\n",
       "Py9PznAvWli+5NYKSxNbkTg7nJ4frtfVajrL2DXdP/xOcDoHNVSVA6BYcCRAzcnsPEliFR0uF53m\n",
       "h2t4ANe7FRi43iuYNc8d6kG32KG2KsNIJaBqzircOCwODlfu9U/5oTsT41b9P4xY+MhD+JFLfys4\n",
       "8VlbYgqUE5TsZ3kW1z2atwv8R7gdHD6qqt+DpTdx5zfl9tjaF1Rk42oE1qoJ0hKea7S81QBcY5dr\n",
       "msspxf83TB6ZzbQHt5nQSIHhCxWFUIsVxcg5s9XCHxFkxtdhb4lBgxGYoU7NC+L63Xwc6pqptHe/\n",
       "vzXfB1MfsvfdKfCs8gyNOwqtglkEMSLnrNQUXAhaNX1/YlWgqMRwG4aCrEw0n+g4wR4RzMFvwS/O\n",
       "eoqSxj62I7BTPyPAyq43eNsNDTyVn3B5lJwVODgvrCfV1BwUDahPeZ0MIYT7Hanwskgo7IGSpHEU\n",
       "zgqXbYuK853UsnSe4RrzNZKwyzq98rKdppHQrYPSuBHo3RbD+j51+x6ewydCuZv8jSgJrP5GWHbQ\n",
       "XDhXpOF7+Lc0Vne/zpI9eYZ4BGz3wtoOg2/2xsCJPCMTS8jvkxrcvuhDLBeAjBZ1K+FJMmuDLIpl\n",
       "bwqmmLngaPBtE72ul9sg8Zb3gAAAAH5BnppFESw7/wAekjVphROLGTq7iNnkoMS+U/IeAEqw7ZyE\n",
       "V1y3kClLF0GR9ztqmgWGk+t03l6Ae2dygIlYcU8GMMmyx2HV+SEbvvFuYSz/ExbbqVvEYYxqlbJo\n",
       "HOXQgRvR6NZ8ciblEMBBlGK2QwOTJ0WQge4A1y//GgDz9EEAAAArAZ65dEN/AA+6qj03S7uKfCDr\n",
       "4jBtKUGInlG3bG8dvtigX6wIA9zc6Z9IOgAAACwBnrtqQ38AILXskJeHfc9Z/+qbZ0iwJMJxfKjw\n",
       "wGXRzJZNZyT4A2oaockl9wAAATlBmqBJqEFsmUwIIf/+qlUAAsnedgBxevSpjslCN4FbRYcZ7e+Z\n",
       "xL0LXyuc9GeD81XPv///9rmGRK4fQwIRAfsKMyumKaTrRi+3bYOgShjUfQVij/6/pUJTWjcdD7Zt\n",
       "ZTvVNaEL35T05m9LbqgZxWTvizQSIv0QwFKvUGgo6fWPo8J89/L8skp6bokAv/C4WudnqYCnEn/f\n",
       "zSYGfK+qS2nvRJvgMIXJVc51wG/JTHtKWG30uhZLVbcVPIqOr88XtEl7mTb3DXAigBxQp914OYDW\n",
       "oyyTyo39cb3VC7db905W+cMAO7lSXOJ0fCtQpdqgPHNDcXy+lw+2eB+hFXUHFrzlauTwin7gxrqn\n",
       "DMcdWfxaRL6914JBd7F8mN1skXVC1Jhv1i9tNt5mIeUdbi+pUj5VXL776nsiABlRAAAAMUGe3kUV\n",
       "LDv/AB6SNW6CwQzK7yNnghlffmc4tSplAn3PqejaapUfhR8uqAEJ0H27ly0AAAAhAZ79dEN/ACCv\n",
       "stbLt9gTdsU01B+gbqyrXr44AAOajpwoAAAAIQGe/2pDfwAgteyXW2ucRcpjoNDzHYLfdSiMAAB2\n",
       "6tp4oQAAAJRBmuRJqEFsmUwIf//+qZYABUuH2sZaAD+Bzc/1NXET/3bambjKafolyQAfO+SoAcDy\n",
       "jvrl8u3o7LtW/qQN0ixUNeH5SsCXK6A+TvAImoJvSMpkf7tHIsbd4e7b09wrZLsdW6QYdcvmI1G9\n",
       "7hEMAZ486GJQRS7cL+OO+Pc2douVmz91KolUHh5eb1pQUqLZT2vIABEwAAAAJ0GfAkUVLDv/AB6S\n",
       "NW6CwSJTbNMG9/t/dWUiYBAtbM5ptQAOauwJKQAAAB8BnyF0Q38AIK+y1su32BN2xTRc8HuyGMPQ\n",
       "AAzTGpqoAAAAIQGfI2pDfwAgteyXW2ucRcpjoQZfgtOGb9b8AACiquYOgQAAAE5BmydJqEFsmUwI\n",
       "b//+p4QACoB64AGugAOzOkHykjIGkoXgLhIbyDy21ifMjHKXCg0Z/PQkdF0aEvJ5AcH/FWwub+BV\n",
       "wR5pTvw3XGAAYEEAAAAlQZ9GQhv/ACxTBSgC/veUtQqawGr09ZhHhoyvIJEerAAwrdwlYQAAACAB\n",
       "n2VpEN8AIK+y1su32BN2xTRc8HuyGSmLcAADXG+P0wAABL9tb292AAAAbG12aGQAAAAAAAAAAAAA\n",
       "AAAAAAPoAAAPoAABAAABAAAAAAAAAAAAAAAAAQAAAAAAAAAAAAAAAAAAAAEAAAAAAAAAAAAAAAAA\n",
       "AEAAAAAAAAAAAAAAAAAAAAAAAAAAAAAAAAAAAAAAAAACAAAD6XRyYWsAAABcdGtoZAAAAAMAAAAA\n",
       "AAAAAAAAAAEAAAAAAAAPoAAAAAAAAAAAAAAAAAAAAAAAAQAAAAAAAAAAAAAAAAAAAAEAAAAAAAAA\n",
       "AAAAAAAAAEAAAAAB9AAAAZAAAAAAACRlZHRzAAAAHGVsc3QAAAAAAAAAAQAAD6AAAAgAAAEAAAAA\n",
       "A2FtZGlhAAAAIG1kaGQAAAAAAAAAAAAAAAAAACgAAACgAFXEAAAAAAAtaGRscgAAAAAAAAAAdmlk\n",
       "ZQAAAAAAAAAAAAAAAFZpZGVvSGFuZGxlcgAAAAMMbWluZgAAABR2bWhkAAAAAQAAAAAAAAAAAAAA\n",
       "JGRpbmYAAAAcZHJlZgAAAAAAAAABAAAADHVybCAAAAABAAACzHN0YmwAAAC0c3RzZAAAAAAAAAAB\n",
       "AAAApGF2YzEAAAAAAAAAAQAAAAAAAAAAAAAAAAAAAAAB9AGQAEgAAABIAAAAAAAAAAEAAAAAAAAA\n",
       "AAAAAAAAAAAAAAAAAAAAAAAAAAAAAAAAAAAY//8AAAAyYXZjQwFkABb/4QAZZ2QAFqzZQIAz5+EA\n",
       "AAMAAQAAAwAUDxYtlgEABmjr48siwAAAABx1dWlka2hA8l8kT8W6OaUbzwMj8wAAAAAAAAAYc3R0\n",
       "cwAAAAAAAAABAAAAKAAABAAAAAAUc3RzcwAAAAAAAAABAAAAAQAAAQBjdHRzAAAAAAAAAB4AAAAJ\n",
       "AAAIAAAAAAEAABQAAAAAAQAACAAAAAABAAAAAAAAAAEAAAQAAAAAAgAACAAAAAABAAAUAAAAAAEA\n",
       "AAgAAAAAAQAAAAAAAAABAAAEAAAAAAIAAAgAAAAAAQAAFAAAAAABAAAIAAAAAAEAAAAAAAAAAQAA\n",
       "BAAAAAABAAAUAAAAAAEAAAgAAAAAAQAAAAAAAAABAAAEAAAAAAEAABQAAAAAAQAACAAAAAABAAAA\n",
       "AAAAAAEAAAQAAAAAAQAAFAAAAAABAAAIAAAAAAEAAAAAAAAAAQAABAAAAAABAAAQAAAAAAEAAAgA\n",
       "AAAAAQAAAAAAAAAcc3RzYwAAAAAAAAABAAAAAQAAACgAAAABAAAAtHN0c3oAAAAAAAAAAAAAACgA\n",
       "ABXzAAAC/AAAA6EAAANBAAACQQAAAiYAAAHkAAACFQAAAhwAAASfAAACqwAAASUAAAJQAAAEMgAA\n",
       "A84AAATMAAACQwAAAbUAAAESAAACmgAAArAAAAPGAAAA1wAAAIAAAABRAAACPgAAAIIAAAAvAAAA\n",
       "MAAAAT0AAAA1AAAAJQAAACUAAACYAAAAKwAAACMAAAAlAAAAUgAAACkAAAAkAAAAFHN0Y28AAAAA\n",
       "AAAAAQAAACwAAABidWR0YQAAAFptZXRhAAAAAAAAACFoZGxyAAAAAAAAAABtZGlyYXBwbAAAAAAA\n",
       "AAAAAAAAAC1pbHN0AAAAJal0b28AAAAdZGF0YQAAAAEAAAAATGF2ZjU2LjQwLjEwMQ==\n",
       "\">\n",
       "  Your browser does not support the video tag.\n",
       "</video>"
      ],
      "text/plain": [
       "<matplotlib.animation.FuncAnimation at 0x7f42b023ead0>"
      ]
     },
     "execution_count": 12,
     "metadata": {},
     "output_type": "execute_result"
    }
   ],
   "source": [
    "fig = plt.figure(dpi=100, figsize=(5, 4))\n",
    "plt.scatter(x,y)\n",
    "line, = plt.plot(x,lin(a_guess,b_guess,x))\n",
    "plt.close()\n",
    "\n",
    "def animate(i):\n",
    "    line.set_ydata(lin(a_guess,b_guess,x))\n",
    "    for i in range(10): upd()\n",
    "    return line,\n",
    "\n",
    "ani = animation.FuncAnimation(fig, animate, np.arange(0, 40), interval=100)\n",
    "ani"
   ]
  },
  {
   "cell_type": "code",
   "execution_count": null,
   "metadata": {
    "collapsed": true
   },
   "outputs": [],
   "source": []
  }
 ],
 "metadata": {
  "anaconda-cloud": {},
  "kernelspec": {
   "display_name": "Python [default]",
   "language": "python",
   "name": "python2"
  },
  "language_info": {
   "codemirror_mode": {
    "name": "ipython",
    "version": 2
   },
   "file_extension": ".py",
   "mimetype": "text/x-python",
   "name": "python",
   "nbconvert_exporter": "python",
   "pygments_lexer": "ipython2",
   "version": "2.7.12"
  },
  "nav_menu": {},
  "toc": {
   "navigate_menu": true,
   "number_sections": true,
   "sideBar": true,
   "threshold": 6,
   "toc_cell": true,
   "toc_section_display": "block",
   "toc_window_display": false
  }
 },
 "nbformat": 4,
 "nbformat_minor": 0
}
